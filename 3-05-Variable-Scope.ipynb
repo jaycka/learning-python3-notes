{
 "cells": [
  {
   "attachments": {
    "scope.png": {
     "image/png": "[encoded data removed]"
    }
   },
   "cell_type": "markdown",
   "id": "a49f8318",
   "metadata": {},
   "source": [
    "# Variable Scope\n",
    "\n",
    "There are four different scopes of a variable:  \n",
    " * **L**: local scope  \n",
    " * **E**: enclosing scope  \n",
    " * **G**: global scope  \n",
    " * **B**: built-int scope  \n",
    "\n",
    "\n",
    "**LEGB Rule:** The Logic followed by a Python interpreter when it is executing your program is: `Local` > `Enclosing` > `Global` > `Built-in`  \n",
    "![scope.png](attachment:scope.png)"
   ]
  },
  {
   "cell_type": "markdown",
   "id": "a267fd28",
   "metadata": {},
   "source": [
    "## Local scope\n",
    "Whenever you define a variable within a function, its scope lies ONLY within the function. It is accessible from the point at which it is defined until the end of the function and exists for as long as the function is executing (Source). Which means its value cannot be changed or even accessed from outside the function."
   ]
  },
  {
   "cell_type": "code",
   "execution_count": 2,
   "id": "7c9b98be",
   "metadata": {},
   "outputs": [
    {
     "name": "stdout",
     "output_type": "stream",
     "text": [
      "1\n"
     ]
    },
    {
     "ename": "NameError",
     "evalue": "name 'first_number' is not defined",
     "output_type": "error",
     "traceback": [
      "\u001b[0;31m---------------------------------------------------------------------------\u001b[0m",
      "\u001b[0;31mNameError\u001b[0m                                 Traceback (most recent call last)",
      "Cell \u001b[0;32mIn[2], line 9\u001b[0m\n\u001b[1;32m      6\u001b[0m print_first()\n\u001b[1;32m      8\u001b[0m \u001b[38;5;66;03m#printing first_number from outside the function\u001b[39;00m\n\u001b[0;32m----> 9\u001b[0m \u001b[38;5;28mprint\u001b[39m(\u001b[43mfirst_number\u001b[49m)\n",
      "\u001b[0;31mNameError\u001b[0m: name 'first_number' is not defined"
     ]
    }
   ],
   "source": [
    "def print_first():\n",
    "    first_number=1\n",
    "    #printing first_number \n",
    "    print(first_number)\n",
    "\n",
    "print_first()\n",
    "\n",
    "#printing first_number from outside the function\n",
    "print(first_number)"
   ]
  },
  {
   "cell_type": "markdown",
   "id": "fd9245c3",
   "metadata": {},
   "source": [
    "## Enclosing scope\n",
    "\n",
    "Variables that initiated inside a function but outside a nested inner function.  \n",
    "For example"
   ]
  },
  {
   "cell_type": "code",
   "execution_count": 3,
   "id": "b4ebb659",
   "metadata": {},
   "outputs": [
    {
     "name": "stdout",
     "output_type": "stream",
     "text": [
      "first_num from outer:  1\n",
      "second_num from inner:  2\n"
     ]
    },
    {
     "ename": "NameError",
     "evalue": "name 'second_num' is not defined",
     "output_type": "error",
     "traceback": [
      "\u001b[0;31m---------------------------------------------------------------------------\u001b[0m",
      "\u001b[0;31mNameError\u001b[0m                                 Traceback (most recent call last)",
      "Cell \u001b[0;32mIn[3], line 13\u001b[0m\n\u001b[1;32m     10\u001b[0m     \u001b[38;5;66;03m# Print statement 3 - Scope: Outer\u001b[39;00m\n\u001b[1;32m     11\u001b[0m     \u001b[38;5;28mprint\u001b[39m(\u001b[38;5;124m\"\u001b[39m\u001b[38;5;124msecond_num from inner: \u001b[39m\u001b[38;5;124m\"\u001b[39m, second_num)\n\u001b[0;32m---> 13\u001b[0m \u001b[43mouter\u001b[49m\u001b[43m(\u001b[49m\u001b[43m)\u001b[49m\n",
      "Cell \u001b[0;32mIn[3], line 11\u001b[0m, in \u001b[0;36mouter\u001b[0;34m()\u001b[0m\n\u001b[1;32m      9\u001b[0m inner()\n\u001b[1;32m     10\u001b[0m \u001b[38;5;66;03m# Print statement 3 - Scope: Outer\u001b[39;00m\n\u001b[0;32m---> 11\u001b[0m \u001b[38;5;28mprint\u001b[39m(\u001b[38;5;124m\"\u001b[39m\u001b[38;5;124msecond_num from inner: \u001b[39m\u001b[38;5;124m\"\u001b[39m, \u001b[43msecond_num\u001b[49m)\n",
      "\u001b[0;31mNameError\u001b[0m: name 'second_num' is not defined"
     ]
    }
   ],
   "source": [
    "def outer():\n",
    "    first_num = 1\n",
    "    def inner():\n",
    "        second_num = 2\n",
    "        # Print statement 1 - Scope: Inner\n",
    "        print(\"first_num from outer: \", first_num)\n",
    "        # Print statement 2 - Scope: Inner\n",
    "        print(\"second_num from inner: \", second_num)\n",
    "    inner()\n",
    "    # Print statement 3 - Scope: Outer\n",
    "    print(\"second_num from inner: \", second_num)\n",
    "\n",
    "outer()\n"
   ]
  },
  {
   "cell_type": "markdown",
   "id": "fb55cbfe",
   "metadata": {},
   "source": [
    "## Global scope\n",
    "\n",
    "Whenever a variable is defined outside any function, it becomes a global variable, and its scope is anywhere within the program. Which means it can be used by any function. For example:"
   ]
  },
  {
   "cell_type": "code",
   "execution_count": 4,
   "id": "e76cd6bf",
   "metadata": {},
   "outputs": [
    {
     "name": "stdout",
     "output_type": "stream",
     "text": [
      "Hello World\n",
      "Hello Samuel\n"
     ]
    }
   ],
   "source": [
    "greeting = \"Hello\"\n",
    "\n",
    "def greeting_world():\n",
    "    world = \"World\"\n",
    "    print(greeting, world)\n",
    "\n",
    "def greeting_name(name):\n",
    "    print(greeting, name)\n",
    "\n",
    "greeting_world()\n",
    "greeting_name(\"Samuel\")\n"
   ]
  },
  {
   "attachments": {
    "keywords.png": {
     "image/png": "[encoded data removed]"
    }
   },
   "cell_type": "markdown",
   "id": "b23a7933",
   "metadata": {},
   "source": [
    "## Built-in scope\n",
    "Widest scope that exists! All the special reserved keywords fall under this scope. We can call the keywords anywhere within our program without having to define them before use.  \n",
    "For exmaple, **keywords from built-in packages and libraries, which do not need to initiaize:**\n",
    "\n",
    "![Keywords.png](attachment:keywords.png)\n",
    "\n"
   ]
  },
  {
   "cell_type": "markdown",
   "id": "23a214f2",
   "metadata": {},
   "source": [
    "## Special Keyword 1: Global"
   ]
  },
  {
   "cell_type": "code",
   "execution_count": 5,
   "id": "a56d414a",
   "metadata": {},
   "outputs": [
    {
     "name": "stdout",
     "output_type": "stream",
     "text": [
      "Hi World\n"
     ]
    }
   ],
   "source": [
    "# change globally defined variable greeting inside a function, with 'global' keyword applied\n",
    "greeting = \"Hello\"\n",
    "\n",
    "def change_greeting(new_greeting):\n",
    "    global greeting\n",
    "    greeting = new_greeting\n",
    "\n",
    "def greeting_world():\n",
    "    world = \"World\"\n",
    "    print(greeting, world)\n",
    "\n",
    "change_greeting(\"Hi\")\n",
    "greeting_world()"
   ]
  },
  {
   "cell_type": "markdown",
   "id": "bcd4de0d",
   "metadata": {},
   "source": [
    "## Special Keyword 2: Nonlocal  \n",
    "The nonlocal keyword is useful in nested functions. It causes the variable to refer to the previously bound variable in the closest enclosing scope. In other words, it will prevent the variable from trying to bind locally first, and force it to go a level 'higher up'. "
   ]
  },
  {
   "cell_type": "code",
   "execution_count": 6,
   "id": "a794ff23",
   "metadata": {},
   "outputs": [
    {
     "name": "stdout",
     "output_type": "stream",
     "text": [
      "inner - second_num is:  1\n",
      "outer - first_num is:  0\n"
     ]
    }
   ],
   "source": [
    "def outer():\n",
    "    first_num = 1\n",
    "    def inner():\n",
    "        nonlocal first_num\n",
    "        first_num = 0\n",
    "        second_num = 1\n",
    "        print(\"inner - second_num is: \", second_num)\n",
    "    inner()\n",
    "    print(\"outer - first_num is: \", first_num)\n",
    "\n",
    "outer()"
   ]
  },
  {
   "cell_type": "code",
   "execution_count": null,
   "id": "fca91c3d",
   "metadata": {},
   "outputs": [],
   "source": []
  }
 ],
 "metadata": {
  "kernelspec": {
   "display_name": "Python 3 (ipykernel)",
   "language": "python",
   "name": "python3"
  },
  "language_info": {
   "codemirror_mode": {
    "name": "ipython",
    "version": 3
   },
   "file_extension": ".py",
   "mimetype": "text/x-python",
   "name": "python",
   "nbconvert_exporter": "python",
   "pygments_lexer": "ipython3",
   "version": "3.11.2"
  }
 },
 "nbformat": 4,
 "nbformat_minor": 5
}
