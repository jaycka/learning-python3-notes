{
 "cells": [
  {
   "cell_type": "markdown",
   "id": "9872b061",
   "metadata": {},
   "source": [
    "# With Statment and Context Manager\n",
    "Context managers allow you to allocate and release resources precisely when you want to. The most widely used example of context managers is the with statement. The syntax of with statement: \n",
    "\n",
    "* with \\<expression\\> as \\<variable\\>: \\<statement\\>\n"
   ]
  },
  {
   "cell_type": "code",
   "execution_count": 1,
   "id": "3443ade1",
   "metadata": {},
   "outputs": [],
   "source": [
    "with open('test.txt','w') as test:\n",
    "    test.write('Hello, World')"
   ]
  },
  {
   "cell_type": "markdown",
   "id": "79332790",
   "metadata": {},
   "source": [
    "The above code is equivalent to:"
   ]
  },
  {
   "cell_type": "code",
   "execution_count": 3,
   "id": "a72ca4db",
   "metadata": {},
   "outputs": [],
   "source": [
    "file = open('test2.txt','w')\n",
    "try:\n",
    "    file.write('Another Hello, World')\n",
    "finally:\n",
    "    file.close()"
   ]
  },
  {
   "cell_type": "markdown",
   "id": "09814e23",
   "metadata": {},
   "source": [
    "# Implementing a Context Manager as a Class\n",
    "\n",
    "Context manager as a class needs at least has two methods defined:\n",
    "1. `__enter__()`: return itself\n",
    "2. `__exit__()`: during execution, `__exit__()` will be executed before throwing out an error, if there is one"
   ]
  },
  {
   "cell_type": "code",
   "execution_count": 19,
   "id": "8cab87b7",
   "metadata": {},
   "outputs": [],
   "source": [
    "class File(object):\n",
    "    def __init__(self, filename, method):\n",
    "        self.filename = open(filename,method)\n",
    "    def __enter__(self):\n",
    "        return self.filename\n",
    "    def __exit__(self, type, value, traceback):\n",
    "        self.filename.close()\n",
    "    "
   ]
  },
  {
   "cell_type": "code",
   "execution_count": 20,
   "id": "615a5906",
   "metadata": {},
   "outputs": [],
   "source": [
    "with File('test3.txt','w') as test3:\n",
    "    test3.write('Custom context manager')\n"
   ]
  },
  {
   "cell_type": "markdown",
   "id": "071d178c",
   "metadata": {},
   "source": [
    "# Error handling with `__exit__`\n",
    "In a context manager object, `__exit__` method decide how to close the file and if any further steps are required.   \n",
    "If exception raised and `__exit__` returns `None`, then `with` raises the exception.   \n",
    "But if `__exit__` returns `True`, then no exception was raised by the with statement.  \n",
    "See examples below:"
   ]
  },
  {
   "cell_type": "code",
   "execution_count": 21,
   "id": "fa0a71d7",
   "metadata": {},
   "outputs": [
    {
     "ename": "AttributeError",
     "evalue": "'_io.TextIOWrapper' object has no attribute 'undefined_func'",
     "output_type": "error",
     "traceback": [
      "\u001b[0;31m---------------------------------------------------------------------------\u001b[0m",
      "\u001b[0;31mAttributeError\u001b[0m                            Traceback (most recent call last)",
      "Cell \u001b[0;32mIn[21], line 4\u001b[0m\n\u001b[1;32m      1\u001b[0m \u001b[38;5;66;03m# use above File class with undefined function\u001b[39;00m\n\u001b[1;32m      3\u001b[0m \u001b[38;5;28;01mwith\u001b[39;00m File(\u001b[38;5;124m'\u001b[39m\u001b[38;5;124mtest4.txt\u001b[39m\u001b[38;5;124m'\u001b[39m,\u001b[38;5;124m'\u001b[39m\u001b[38;5;124mw\u001b[39m\u001b[38;5;124m'\u001b[39m) \u001b[38;5;28;01mas\u001b[39;00m test4:\n\u001b[0;32m----> 4\u001b[0m     \u001b[43mtest\u001b[49m\u001b[38;5;241;43m.\u001b[39;49m\u001b[43mundefined_func\u001b[49m(\u001b[38;5;124m'\u001b[39m\u001b[38;5;124mHello again!\u001b[39m\u001b[38;5;124m'\u001b[39m)\n",
      "\u001b[0;31mAttributeError\u001b[0m: '_io.TextIOWrapper' object has no attribute 'undefined_func'"
     ]
    }
   ],
   "source": [
    "# use above File class with undefined function\n",
    "\n",
    "with File('test4.txt','w') as test4:\n",
    "    test.undefined_func('Hello again!')"
   ]
  },
  {
   "cell_type": "code",
   "execution_count": 24,
   "id": "23b681a8",
   "metadata": {},
   "outputs": [],
   "source": [
    "# if we modify the File class by adding return True in __exit__\n",
    "\n",
    "class File(object):\n",
    "    def __init__(self, filename, method):\n",
    "        self.filename = open(filename,method)\n",
    "    def __enter__(self):\n",
    "        return self.filename\n",
    "    def __exit__(self, type, value, traceback):\n",
    "        print(\"Exception has been handled\")\n",
    "        self.filename.close()\n",
    "        return True"
   ]
  },
  {
   "cell_type": "code",
   "execution_count": 25,
   "id": "196fc3fb",
   "metadata": {},
   "outputs": [
    {
     "name": "stdout",
     "output_type": "stream",
     "text": [
      "Exception has been handled\n"
     ]
    }
   ],
   "source": [
    "with File('test4.txt','w') as test4:\n",
    "    test.undefined_func('Hello again!')"
   ]
  }
 ],
 "metadata": {
  "kernelspec": {
   "display_name": "Python 3 (ipykernel)",
   "language": "python",
   "name": "python3"
  },
  "language_info": {
   "codemirror_mode": {
    "name": "ipython",
    "version": 3
   },
   "file_extension": ".py",
   "mimetype": "text/x-python",
   "name": "python",
   "nbconvert_exporter": "python",
   "pygments_lexer": "ipython3",
   "version": "3.11.2"
  }
 },
 "nbformat": 4,
 "nbformat_minor": 5
}
