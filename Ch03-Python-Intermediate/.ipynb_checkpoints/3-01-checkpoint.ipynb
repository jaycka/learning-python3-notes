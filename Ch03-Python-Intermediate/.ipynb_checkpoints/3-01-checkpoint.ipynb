{
 "cells": [
  {
   "cell_type": "code",
   "execution_count": 1,
   "id": "c6c85348",
   "metadata": {},
   "outputs": [],
   "source": [
    "import timeit"
   ]
  },
  {
   "cell_type": "code",
   "execution_count": 25,
   "id": "e81490fa",
   "metadata": {},
   "outputs": [],
   "source": [
    "def fib1(x):\n",
    "    return 1 if x in(0,1) else fib1(x-1)+fib1(x-2)\n",
    "\n",
    "def fib2(x):\n",
    "    a,b=1,1\n",
    "    for i in range(1,x+1):\n",
    "        a,b=b,a+b\n",
    "    return a\n",
    "\n",
    "def fib3(x, cache={0: 1, 1: 1}):\n",
    "    \"\"\"Fib with recursion and caching.\"\"\"\n",
    "    try:\n",
    "        return cache[x]\n",
    "    except KeyError:\n",
    "        cache[x] = fib3(x-1) + fib3(x-2)\n",
    "        return cache[x]"
   ]
  },
  {
   "cell_type": "code",
   "execution_count": 26,
   "id": "b5875546",
   "metadata": {
    "scrolled": true
   },
   "outputs": [
    {
     "name": "stdout",
     "output_type": "stream",
     "text": [
      "1.15 ms ± 90.5 µs per loop (mean ± std. dev. of 7 runs, 100 loops each)\n",
      "606 ns ± 8.51 ns per loop (mean ± std. dev. of 7 runs, 100 loops each)\n",
      "61.2 ns ± 47.9 ns per loop (mean ± std. dev. of 7 runs, 100 loops each)\n"
     ]
    }
   ],
   "source": [
    "%timeit -n 100 fib1(20)\n",
    "%timeit -n 100 fib2(20)\n",
    "%timeit -n 100 fib3(20)"
   ]
  },
  {
   "cell_type": "code",
   "execution_count": 31,
   "id": "e8c39161",
   "metadata": {},
   "outputs": [
    {
     "ename": "IndentationError",
     "evalue": "unexpected indent (1133535959.py, line 4)",
     "output_type": "error",
     "traceback": [
      "\u001b[0;36m  Cell \u001b[0;32mIn[31], line 4\u001b[0;36m\u001b[0m\n\u001b[0;31m    return cache[n]\u001b[0m\n\u001b[0m    ^\u001b[0m\n\u001b[0;31mIndentationError\u001b[0m\u001b[0;31m:\u001b[0m unexpected indent\n"
     ]
    }
   ],
   "source": [
    "def fib3(n, cache={0: 1, 1: 1}):\n",
    "    \"\"\"Fib with recursion and caching.\"\"\"\n",
    "    return cache[n]\n"
   ]
  }
 ],
 "metadata": {
  "kernelspec": {
   "display_name": "Python 3 (ipykernel)",
   "language": "python",
   "name": "python3"
  },
  "language_info": {
   "codemirror_mode": {
    "name": "ipython",
    "version": 3
   },
   "file_extension": ".py",
   "mimetype": "text/x-python",
   "name": "python",
   "nbconvert_exporter": "python",
   "pygments_lexer": "ipython3",
   "version": "3.11.2"
  }
 },
 "nbformat": 4,
 "nbformat_minor": 5
}
