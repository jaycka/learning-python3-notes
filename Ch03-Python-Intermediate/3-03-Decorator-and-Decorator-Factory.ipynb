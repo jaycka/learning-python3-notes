{
 "cells": [
  {
   "cell_type": "markdown",
   "id": "9d93bc81",
   "metadata": {},
   "source": [
    "# Decorator\n",
    "A decorator is a function object that takes another function object and output a new function object."
   ]
  },
  {
   "cell_type": "code",
   "execution_count": 6,
   "id": "9576b7c9",
   "metadata": {},
   "outputs": [],
   "source": [
    "def dec(f):\n",
    "    print(f'I am decorating function:{f.__name__}')\n",
    "    return f"
   ]
  },
  {
   "cell_type": "code",
   "execution_count": 7,
   "id": "26980ce0",
   "metadata": {},
   "outputs": [
    {
     "name": "stdout",
     "output_type": "stream",
     "text": [
      "I am decorating function:len\n"
     ]
    },
    {
     "data": {
      "text/plain": [
       "<function len(obj, /)>"
      ]
     },
     "execution_count": 7,
     "metadata": {},
     "output_type": "execute_result"
    }
   ],
   "source": [
    "dec(len)"
   ]
  },
  {
   "cell_type": "code",
   "execution_count": 8,
   "id": "b7924bac",
   "metadata": {},
   "outputs": [
    {
     "name": "stdout",
     "output_type": "stream",
     "text": [
      "I am decorating function:add\n"
     ]
    }
   ],
   "source": [
    "# Decorator can be applied when defining the function, using@\n",
    "\n",
    "@dec\n",
    "def add(x,y):\n",
    "    return x+y"
   ]
  },
  {
   "cell_type": "code",
   "execution_count": 10,
   "id": "7c993a15",
   "metadata": {},
   "outputs": [],
   "source": [
    "def times2(f):\n",
    "    def new_func(x):\n",
    "        return f(x)*2\n",
    "    return new_func\n",
    "\n",
    "def plus1(f):\n",
    "    def new_func(x):\n",
    "        return f(x)+1\n",
    "    return new_func"
   ]
  },
  {
   "cell_type": "code",
   "execution_count": 12,
   "id": "3b6a7167",
   "metadata": {},
   "outputs": [],
   "source": [
    "@plus1\n",
    "@times2\n",
    "def foo(x):\n",
    "    return x"
   ]
  },
  {
   "cell_type": "code",
   "execution_count": 13,
   "id": "eb858524",
   "metadata": {},
   "outputs": [
    {
     "data": {
      "text/plain": [
       "27"
      ]
     },
     "execution_count": 13,
     "metadata": {},
     "output_type": "execute_result"
    }
   ],
   "source": [
    "foo(13)"
   ]
  },
  {
   "cell_type": "markdown",
   "id": "3784fa10",
   "metadata": {},
   "source": [
    "# Decorator Factory\n",
    "A decorator factory is a callable function that makes the actual decorator, we can standarize the former plus1 to plusn to create a decorator factory:"
   ]
  },
  {
   "cell_type": "code",
   "execution_count": 15,
   "id": "fac1b0c4",
   "metadata": {},
   "outputs": [],
   "source": [
    "def plusn(n):\n",
    "    def plus_dec(f):\n",
    "        def new_func(x):\n",
    "            return f(x)+n\n",
    "        return new_func\n",
    "    return plus_dec"
   ]
  },
  {
   "cell_type": "code",
   "execution_count": 18,
   "id": "0fb1ec37",
   "metadata": {},
   "outputs": [],
   "source": [
    "@plusn(6)\n",
    "@times2\n",
    "def foo2(x):\n",
    "    return x"
   ]
  },
  {
   "cell_type": "code",
   "execution_count": 19,
   "id": "3babfa64",
   "metadata": {},
   "outputs": [
    {
     "data": {
      "text/plain": [
       "32"
      ]
     },
     "execution_count": 19,
     "metadata": {},
     "output_type": "execute_result"
    }
   ],
   "source": [
    "foo2(13)"
   ]
  }
 ],
 "metadata": {
  "kernelspec": {
   "display_name": "Python 3 (ipykernel)",
   "language": "python",
   "name": "python3"
  },
  "language_info": {
   "codemirror_mode": {
    "name": "ipython",
    "version": 3
   },
   "file_extension": ".py",
   "mimetype": "text/x-python",
   "name": "python",
   "nbconvert_exporter": "python",
   "pygments_lexer": "ipython3",
   "version": "3.11.2"
  }
 },
 "nbformat": 4,
 "nbformat_minor": 5
}
