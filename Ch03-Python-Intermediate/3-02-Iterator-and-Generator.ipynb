{
 "cells": [
  {
   "cell_type": "markdown",
   "id": "50b4ae39",
   "metadata": {},
   "source": [
    "# Iterator\n",
    "\n",
    "Iterator has two properties：  \n",
    "* `.__iter__()`method returns itself\n",
    "* `.__next__()`method will iterate next value，when done iterating，throw `StopIteration` error\n"
   ]
  },
  {
   "cell_type": "code",
   "execution_count": 43,
   "id": "f29f1d0b",
   "metadata": {},
   "outputs": [],
   "source": [
    "#试着用以上两点做一个反叙迭代器类\n",
    "\n",
    "class reverselistiterator:\n",
    "    def __init__(self, list):\n",
    "        self.list = list\n",
    "        self.index = len(list)\n",
    "    \n",
    "    def __iter__(self):\n",
    "        return self\n",
    "    \n",
    "    def __next__(self):\n",
    "        self.index -= 1\n",
    "        if self.index >= 0:\n",
    "            return self.list[self.index]\n",
    "        else:\n",
    "            raise StopIteration"
   ]
  },
  {
   "cell_type": "code",
   "execution_count": 44,
   "id": "84b8808e",
   "metadata": {},
   "outputs": [
    {
     "name": "stdout",
     "output_type": "stream",
     "text": [
      "9\n",
      "8\n",
      "7\n",
      "6\n",
      "5\n",
      "4\n",
      "3\n",
      "2\n",
      "1\n",
      "0\n"
     ]
    }
   ],
   "source": [
    "x = range(10)\n",
    "for i in reverselistiterator(x):\n",
    "    print(i)"
   ]
  },
  {
   "cell_type": "markdown",
   "id": "04264056",
   "metadata": {},
   "source": [
    "#  Generator\n",
    "While it is kinda time-consuming to create custom generator, using `yield` is always a easier way to achive that. For example:"
   ]
  },
  {
   "cell_type": "code",
   "execution_count": 46,
   "id": "d48ddc70",
   "metadata": {},
   "outputs": [],
   "source": [
    "def test_generator():\n",
    "    yield 1\n",
    "    yield 2\n",
    "    yield 3"
   ]
  },
  {
   "cell_type": "markdown",
   "id": "8f40ca77",
   "metadata": {},
   "source": [
    "Since generator is a type of iterator, hence inherits its properties of `__iter__()` and `__next__()`：\n",
    "* `.__iter__()`method returns itself\n",
    "* `.__next__()`method will iterate next value，when done iterating，throw `StopIteration` error"
   ]
  },
  {
   "cell_type": "code",
   "execution_count": 47,
   "id": "e4c54d49",
   "metadata": {},
   "outputs": [],
   "source": [
    "g = test_generator()"
   ]
  },
  {
   "cell_type": "code",
   "execution_count": 50,
   "id": "10d68e39",
   "metadata": {},
   "outputs": [
    {
     "data": {
      "text/plain": [
       "True"
      ]
     },
     "execution_count": 50,
     "metadata": {},
     "output_type": "execute_result"
    }
   ],
   "source": [
    "g.__iter__() is g"
   ]
  },
  {
   "cell_type": "code",
   "execution_count": 52,
   "id": "c78d6180",
   "metadata": {},
   "outputs": [
    {
     "data": {
      "text/plain": [
       "2"
      ]
     },
     "execution_count": 52,
     "metadata": {},
     "output_type": "execute_result"
    }
   ],
   "source": [
    "g.__next__()"
   ]
  },
  {
   "cell_type": "code",
   "execution_count": 53,
   "id": "5dda886f",
   "metadata": {},
   "outputs": [
    {
     "data": {
      "text/plain": [
       "3"
      ]
     },
     "execution_count": 53,
     "metadata": {},
     "output_type": "execute_result"
    }
   ],
   "source": [
    "g.__next__()"
   ]
  },
  {
   "cell_type": "code",
   "execution_count": 54,
   "id": "20ae6df3",
   "metadata": {},
   "outputs": [
    {
     "ename": "StopIteration",
     "evalue": "",
     "output_type": "error",
     "traceback": [
      "\u001b[0;31m---------------------------------------------------------------------------\u001b[0m",
      "\u001b[0;31mStopIteration\u001b[0m                             Traceback (most recent call last)",
      "Cell \u001b[0;32mIn[54], line 1\u001b[0m\n\u001b[0;32m----> 1\u001b[0m \u001b[43mg\u001b[49m\u001b[38;5;241;43m.\u001b[39;49m\u001b[38;5;21;43m__next__\u001b[39;49m\u001b[43m(\u001b[49m\u001b[43m)\u001b[49m\n",
      "\u001b[0;31mStopIteration\u001b[0m: "
     ]
    }
   ],
   "source": [
    "g.__next__()"
   ]
  },
  {
   "cell_type": "code",
   "execution_count": 55,
   "id": "a24b7dd0",
   "metadata": {},
   "outputs": [],
   "source": [
    "#因为生成器也具备迭代器的功能，因此之前反叙迭代器也可以做成反叙生成器\n",
    "\n",
    "def reverselistgenerator(x):\n",
    "    for i in x[::-1]:\n",
    "        yield i"
   ]
  },
  {
   "cell_type": "code",
   "execution_count": 58,
   "id": "51a1a64a",
   "metadata": {},
   "outputs": [
    {
     "name": "stdout",
     "output_type": "stream",
     "text": [
      "d\n",
      "l\n",
      "r\n",
      "o\n",
      "W\n",
      "o\n",
      "l\n",
      "l\n",
      "e\n",
      "H\n"
     ]
    }
   ],
   "source": [
    "for i in reverselistgenerator('HelloWorld'):\n",
    "    print(i)"
   ]
  }
 ],
 "metadata": {
  "kernelspec": {
   "display_name": "Python 3 (ipykernel)",
   "language": "python",
   "name": "python3"
  },
  "language_info": {
   "codemirror_mode": {
    "name": "ipython",
    "version": 3
   },
   "file_extension": ".py",
   "mimetype": "text/x-python",
   "name": "python",
   "nbconvert_exporter": "python",
   "pygments_lexer": "ipython3",
   "version": "3.11.2"
  }
 },
 "nbformat": 4,
 "nbformat_minor": 5
}
