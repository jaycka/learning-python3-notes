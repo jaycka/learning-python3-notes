{
 "cells": [
  {
   "cell_type": "markdown",
   "id": "9611cf14",
   "metadata": {},
   "source": [
    "# 装饰器（decorator）\n",
    "以函数作为参数，并且返回一个新函数的函数是一个装饰器。"
   ]
  },
  {
   "cell_type": "code",
   "execution_count": 6,
   "id": "2fedb4f8",
   "metadata": {},
   "outputs": [],
   "source": [
    "def dec(f):\n",
    "    print(f'I am decorating function:{f.__name__}')\n",
    "    return f"
   ]
  },
  {
   "cell_type": "code",
   "execution_count": 7,
   "id": "ac8d6f3f",
   "metadata": {},
   "outputs": [
    {
     "name": "stdout",
     "output_type": "stream",
     "text": [
      "I am decorating function:len\n"
     ]
    },
    {
     "data": {
      "text/plain": [
       "<function len(obj, /)>"
      ]
     },
     "execution_count": 7,
     "metadata": {},
     "output_type": "execute_result"
    }
   ],
   "source": [
    "dec(len)"
   ]
  },
  {
   "cell_type": "code",
   "execution_count": 8,
   "id": "19b020dd",
   "metadata": {},
   "outputs": [
    {
     "name": "stdout",
     "output_type": "stream",
     "text": [
      "I am decorating function:add\n"
     ]
    }
   ],
   "source": [
    "# 装饰器可以在函数定义时用@调用 \n",
    "\n",
    "@dec\n",
    "def add(x,y):\n",
    "    return x+y"
   ]
  },
  {
   "cell_type": "code",
   "execution_count": 10,
   "id": "125685fe",
   "metadata": {},
   "outputs": [],
   "source": [
    "def times2(f):\n",
    "    def new_func(x):\n",
    "        return f(x)*2\n",
    "    return new_func\n",
    "\n",
    "def plus1(f):\n",
    "    def new_func(x):\n",
    "        return f(x)+1\n",
    "    return new_func"
   ]
  },
  {
   "cell_type": "code",
   "execution_count": 12,
   "id": "42df7420",
   "metadata": {},
   "outputs": [],
   "source": [
    "@plus1\n",
    "@times2\n",
    "def foo(x):\n",
    "    return x"
   ]
  },
  {
   "cell_type": "code",
   "execution_count": 13,
   "id": "09b894e6",
   "metadata": {},
   "outputs": [
    {
     "data": {
      "text/plain": [
       "27"
      ]
     },
     "execution_count": 13,
     "metadata": {},
     "output_type": "execute_result"
    }
   ],
   "source": [
    "foo(13)"
   ]
  },
  {
   "cell_type": "markdown",
   "id": "d7551b1e",
   "metadata": {},
   "source": [
    "# 生成器工厂\n",
    "生成装饰器的函数被叫做装饰器工厂。将plus1一般化为一个名为plusn的装饰器工厂："
   ]
  },
  {
   "cell_type": "code",
   "execution_count": 15,
   "id": "c7c8f8c3",
   "metadata": {},
   "outputs": [],
   "source": [
    "def plusn(n):\n",
    "    def plus_dec(f):\n",
    "        def new_func(x):\n",
    "            return f(x)+n\n",
    "        return new_func\n",
    "    return plus_dec"
   ]
  },
  {
   "cell_type": "code",
   "execution_count": 18,
   "id": "c89cb11f",
   "metadata": {},
   "outputs": [],
   "source": [
    "@plusn(6)\n",
    "@times2\n",
    "def foo2(x):\n",
    "    return x"
   ]
  },
  {
   "cell_type": "code",
   "execution_count": 19,
   "id": "27326e34",
   "metadata": {},
   "outputs": [
    {
     "data": {
      "text/plain": [
       "32"
      ]
     },
     "execution_count": 19,
     "metadata": {},
     "output_type": "execute_result"
    }
   ],
   "source": [
    "foo2(13)"
   ]
  }
 ],
 "metadata": {
  "kernelspec": {
   "display_name": "Python 3 (ipykernel)",
   "language": "python",
   "name": "python3"
  },
  "language_info": {
   "codemirror_mode": {
    "name": "ipython",
    "version": 3
   },
   "file_extension": ".py",
   "mimetype": "text/x-python",
   "name": "python",
   "nbconvert_exporter": "python",
   "pygments_lexer": "ipython3",
   "version": "3.11.2"
  }
 },
 "nbformat": 4,
 "nbformat_minor": 5
}
